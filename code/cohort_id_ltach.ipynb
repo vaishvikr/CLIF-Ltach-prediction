{
 "cells": [
  {
   "cell_type": "code",
   "execution_count": null,
   "metadata": {},
   "outputs": [],
   "source": [
    "import pandas as pd\n",
    "import numpy as np\n",
    "import duckdb\n",
    "import pyCLIF as pc"
   ]
  },
  {
   "cell_type": "markdown",
   "metadata": {},
   "source": [
    "#### base population"
   ]
  },
  {
   "cell_type": "markdown",
   "metadata": {},
   "source": [
    "ADT"
   ]
  },
  {
   "cell_type": "code",
   "execution_count": null,
   "metadata": {},
   "outputs": [],
   "source": [
    "adt = pc.load_data('clif_adt')\n",
    "adt['in_dttm'] = pc.getdttm(adt['in_dttm'])\n",
    "adt= adt[['hospitalization_id','in_dttm','location_category']]\n",
    "pc.deftime(adt['in_dttm'])"
   ]
  },
  {
   "cell_type": "markdown",
   "metadata": {},
   "source": [
    "Respiratory Support"
   ]
  },
  {
   "cell_type": "code",
   "execution_count": null,
   "metadata": {},
   "outputs": [],
   "source": [
    "rst = pc.load_data('clif_respiratory_support')\n",
    "rst['recorded_dttm'] = pc.getdttm(rst['recorded_dttm'])\n",
    "rst['device_category'] = rst['device_category'].str.lower()\n",
    "rst['mode_category'] = rst['mode_category'].str.lower()\n",
    "pc.deftime(rst['recorded_dttm'])"
   ]
  },
  {
   "cell_type": "markdown",
   "metadata": {},
   "source": [
    "Hosp & Pats"
   ]
  },
  {
   "cell_type": "code",
   "execution_count": null,
   "metadata": {},
   "outputs": [],
   "source": [
    "rst = pc.load_data('clif_respiratory_support')\n",
    "hosp = pc.load_data('clif_hospitalization')\n",
    "pat = pc.load_data('clif_patient')\n",
    "\n",
    "hosp = hosp[\n",
    "    (hosp['admission_dttm'].dt.year >= 2019) &\n",
    "    (hosp['admission_dttm'].dt.year <= 2024) &\n",
    "    (hosp['hospitalization_id'].isin(adt[adt['location_category'].str.lower()=='icu'].hospitalization_id.unique())) \n",
    "].reset_index(drop=True)\n",
    "\n",
    "required_id= hosp['hospitalization_id'].unique()\n",
    "print(len(required_id),' : potential cohort count')\n",
    "\n",
    "base = pd.merge(hosp,pat,on='patient_id',how='inner')\\\n",
    "[['patient_id', 'hospitalization_id','admission_dttm', 'discharge_dttm','age_at_admission', 'discharge_category','sex_category','race_category', 'ethnicity_category']]\n",
    "\n",
    "base['admission_dttm'] = pc.getdttm(base['admission_dttm'])\n",
    "\n",
    "print(base.columns)\n",
    "\n",
    "adt = adt[adt['hospitalization_id'].isin(required_id)].reset_index(drop=True)\n",
    "rst = rst[rst['hospitalization_id'].isin(required_id)].reset_index(drop=True)\n",
    "\n",
    "del hosp,pat"
   ]
  },
  {
   "cell_type": "markdown",
   "metadata": {},
   "source": [
    "Medication Admin Continuous"
   ]
  },
  {
   "cell_type": "code",
   "execution_count": null,
   "metadata": {},
   "outputs": [],
   "source": [
    "mac = pc.load_data('clif_medication_admin_continuous')\n",
    "mac['med_group'] = mac['med_group'].str.lower()\n",
    "mac['med_category'] = mac['med_category'].str.lower()\n",
    "mac['med_category_group'] = mac['med_category'].astype(str) +'_'+ mac['med_group'].astype(str)\n",
    "mac_col = ['hospitalization_id', 'admin_dttm','med_dose','med_category_group']\n",
    "mac = mac[(mac['hospitalization_id'].isin(required_id)) & (mac['med_group'].isin(['vasoactives', 'sedation', 'cardiac', 'paralytics']))][mac_col].reset_index(drop=True)\n",
    "mac['admin_dttm'] = pc.getdttm(mac['admin_dttm'])\n",
    "pc.deftime(mac['admin_dttm'])"
   ]
  },
  {
   "cell_type": "markdown",
   "metadata": {},
   "source": [
    "Patient Assessments"
   ]
  },
  {
   "cell_type": "code",
   "execution_count": null,
   "metadata": {},
   "outputs": [],
   "source": [
    "pas_cat_values_mapping_dict = {\n",
    "'negative': 0,\n",
    "'fail': 0,\n",
    "'pass': 1,\n",
    "'positive': 1,\n",
    "None: np.nan ,\n",
    "np.nan : np.nan,\n",
    "'yes':1,\n",
    "'no':0\n",
    "}\n",
    "pas_cat_col=['gcs_total','rass','cpot_total']\n",
    "pas_col = ['hospitalization_id', 'recorded_dttm','numerical_value', 'categorical_value','assessment_category']\n",
    "\n",
    "pas = pc.load_data('clif_patient_assessments',-1)\n",
    "\n",
    "pas = pas[(pas['hospitalization_id'].isin(required_id)) & (pas['assessment_category'].isin(pas_cat_col)) ][pas_col].reset_index(drop=True)\n",
    "pas['recorded_dttm'] = pc.getdttm(pas['recorded_dttm'])\n",
    "pas['categorical_value'] = pas['categorical_value'].str.lower().map(pas_cat_values_mapping_dict)\n",
    "pas['assessment_value'] = pas['numerical_value'].combine_first(pas['categorical_value'])\n",
    "pas.drop(columns=['numerical_value','categorical_value'],inplace=True)\n",
    "\n",
    "pc.deftime(pas['recorded_dttm'])"
   ]
  },
  {
   "cell_type": "markdown",
   "metadata": {},
   "source": [
    "Labs"
   ]
  },
  {
   "cell_type": "code",
   "execution_count": null,
   "metadata": {},
   "outputs": [],
   "source": [
    "labs = pc.load_data('clif_labs',-1)\n",
    "\n",
    "labs = labs[['lab_value_numeric','hospitalization_id','lab_result_dttm','lab_category']]\n",
    "labs = labs[labs['hospitalization_id'].isin(required_id)].reset_index(drop=True)\n",
    "labs['lab_result_dttm'] = pc.getdttm(labs['lab_result_dttm'])\n",
    "pc.deftime(labs['lab_result_dttm'])"
   ]
  },
  {
   "cell_type": "markdown",
   "metadata": {},
   "source": [
    "Vitals"
   ]
  },
  {
   "cell_type": "code",
   "execution_count": null,
   "metadata": {},
   "outputs": [],
   "source": [
    "vit = pc.load_data('clif_vitals',-1)[['hospitalization_id', 'recorded_dttm', 'vital_category', 'vital_value']]\n",
    "vit = vit[(vit['hospitalization_id'].isin(required_id)) & (vit['vital_category'].isin(['temp_c', 'heart_rate', 'sbp', 'dbp', 'spo2', 'respiratory_rate', 'height_cm', 'weight_kg']))].reset_index(drop=True)\n",
    "vit['recorded_dttm'] = pd.to_datetime(vit['recorded_dttm']).dt.ceil('min')\n",
    "vit['vital_value'] = pd.to_numeric(vit['vital_value'], errors='coerce')\n",
    "numeric_vitals = vit.dropna(subset=['vital_value']).reset_index(drop=True)\n",
    "numeric_vitals = numeric_vitals[numeric_vitals['recorded_dttm'].dt.hour.notna() & numeric_vitals['recorded_dttm'].dt.minute.notna()].reset_index(drop=True)\n",
    "del vit\n",
    "pc.deftime(numeric_vitals['recorded_dttm'])"
   ]
  },
  {
   "cell_type": "code",
   "execution_count": null,
   "metadata": {},
   "outputs": [],
   "source": [
    "numeric_vitals.vital_category.unique()"
   ]
  },
  {
   "cell_type": "markdown",
   "metadata": {},
   "source": [
    "Microbiology Culture"
   ]
  },
  {
   "cell_type": "code",
   "execution_count": null,
   "metadata": {},
   "outputs": [],
   "source": [
    "micro = pc.load_data('clif_microbiology_culture',-1)\n",
    "micro = micro[(micro['hospitalization_id'].isin(required_id))].reset_index(drop=True)\n",
    "micro = micro[(micro['component_category'].str.lower() =='culture') & (micro['fluid_category'].str.lower() == 'blood/buffy coat')].reset_index(drop=True)\n",
    "micro['micro_component_fluid_category'] = 'culture_blood'\n",
    "micro = micro[['hospitalization_id', 'order_dttm',  'micro_component_fluid_category']]\n",
    "micro['value']='ordered'\n",
    "micro['order_dttm'] = pc.getdttm(micro['order_dttm'])\n",
    "pc.deftime(micro['order_dttm'])"
   ]
  },
  {
   "cell_type": "markdown",
   "metadata": {},
   "source": [
    "Medication Admin Intermittent"
   ]
  },
  {
   "cell_type": "code",
   "execution_count": null,
   "metadata": {},
   "outputs": [],
   "source": [
    "mai = pc.load_data(\"clif_medication_admin_intermittent\")\n",
    "mai = mai[(mai['hospitalization_id'].isin(required_id))].reset_index(drop=True)\n",
    "mai = mai[\n",
    "    (mai['med_group'].str.lower()=='antibiotics') &\n",
    "    (mai['med_route_name'].str.contains('iv|Intravenous', case=False,regex=True))\n",
    "].reset_index(drop=True)\n",
    "\n",
    "mai['med_category_group'] = mai['med_category'].astype(str) +'_'+ mai['med_group'].astype(str)\n",
    "mai = mai[['hospitalization_id', 'admin_dttm','med_dose','med_category_group' ]]\n",
    "mai['admin_dttm'] = pc.getdttm(mai['admin_dttm'])\n",
    "pc.deftime(mai['admin_dttm'])"
   ]
  },
  {
   "cell_type": "markdown",
   "metadata": {},
   "source": [
    "Making Wide"
   ]
  },
  {
   "cell_type": "code",
   "execution_count": null,
   "metadata": {},
   "outputs": [],
   "source": [
    "duckdb.register(\"hosp\", base)\n",
    "duckdb.register(\"labs\", labs)\n",
    "duckdb.register(\"adt\", adt)\n",
    "duckdb.register(\"vit\", numeric_vitals)\n",
    "duckdb.register(\"pas\", pas)\n",
    "duckdb.register(\"mac\", mac)\n",
    "duckdb.register(\"micro\", micro)\n",
    "duckdb.register(\"mai\", mai)\n",
    "\n",
    "q=\"\"\"\n",
    "    WITH uni_event_dttm as (\n",
    "        \n",
    "    select distinct hospitalization_id,event_time from (\n",
    "    SELECT hospitalization_id, in_dttm AS event_time\n",
    "    FROM adt where in_dttm is not null\n",
    "    \n",
    "    UNION\n",
    "    \n",
    "    SELECT hospitalization_id, lab_result_dttm AS event_time\n",
    "    FROM labs where lab_result_dttm is not null\n",
    "    \n",
    "    UNION\n",
    "    \n",
    "    SELECT hospitalization_id, recorded_dttm AS event_time\n",
    "    FROM vit where recorded_dttm is not null \n",
    "    \n",
    "    UNION\n",
    "    \n",
    "    SELECT hospitalization_id, recorded_dttm AS event_time\n",
    "    FROM rst where recorded_dttm is not null\n",
    "\n",
    "    UNION\n",
    "    \n",
    "    SELECT hospitalization_id, recorded_dttm AS event_time\n",
    "    FROM pas where recorded_dttm is not null\n",
    "    \n",
    "    UNION\n",
    "    \n",
    "    SELECT hospitalization_id, admin_dttm AS event_time\n",
    "    FROM mac where admin_dttm is not null\n",
    "        \n",
    "    UNION\n",
    "    \n",
    "    SELECT hospitalization_id, admin_dttm AS event_time\n",
    "    FROM mai where admin_dttm is not null\n",
    "        \n",
    "    UNION\n",
    "    \n",
    "    SELECT hospitalization_id, order_dttm AS event_time\n",
    "    FROM micro where order_dttm is not null\n",
    "\n",
    "    ) uni_time\n",
    "    )\n",
    "    select distinct * from hosp a left join uni_event_dttm b on a.hospitalization_id=b.hospitalization_id\n",
    "\n",
    "\"\"\"\n",
    "expanded_df = duckdb.sql(q).df()\n",
    "pc.deftime(expanded_df['event_time'])"
   ]
  },
  {
   "cell_type": "markdown",
   "metadata": {},
   "source": [
    "Pivots"
   ]
  },
  {
   "cell_type": "code",
   "execution_count": null,
   "metadata": {},
   "outputs": [],
   "source": [
    "mai.head()"
   ]
  },
  {
   "cell_type": "code",
   "execution_count": 14,
   "metadata": {},
   "outputs": [],
   "source": [
    "query = \"\"\"\n",
    "WITH mai_data AS (\n",
    "    SELECT  distinct med_category_group,\tmed_dose\t,\n",
    "    hospitalization_id || '_' || strftime(admin_dttm, '%Y%m%d%H%M') AS combo_id\n",
    "    FROM mai where admin_dttm is not null \n",
    ")\n",
    "PIVOT mai_data\n",
    "ON med_category_group\n",
    "USING first(med_dose)\n",
    "GROUP BY combo_id\n",
    "\"\"\"\n",
    "p_mai = duckdb.sql(query).df()"
   ]
  },
  {
   "cell_type": "code",
   "execution_count": null,
   "metadata": {},
   "outputs": [],
   "source": [
    "p_mai.head()"
   ]
  },
  {
   "cell_type": "code",
   "execution_count": null,
   "metadata": {},
   "outputs": [],
   "source": [
    "micro.head()"
   ]
  },
  {
   "cell_type": "code",
   "execution_count": 17,
   "metadata": {},
   "outputs": [],
   "source": [
    "query = \"\"\"\n",
    "WITH micro_data AS (\n",
    "    SELECT  distinct micro_component_fluid_category,\tvalue\t,\n",
    "    hospitalization_id || '_' || strftime(order_dttm, '%Y%m%d%H%M') AS combo_id\n",
    "    FROM micro where order_dttm is not null \n",
    ")\n",
    "PIVOT micro_data\n",
    "ON micro_component_fluid_category\n",
    "USING first(value)\n",
    "GROUP BY combo_id\n",
    "\"\"\"\n",
    "p_micro = duckdb.sql(query).df()"
   ]
  },
  {
   "cell_type": "code",
   "execution_count": null,
   "metadata": {},
   "outputs": [],
   "source": [
    "p_micro.head()"
   ]
  },
  {
   "cell_type": "code",
   "execution_count": null,
   "metadata": {},
   "outputs": [],
   "source": [
    "numeric_vitals.head()"
   ]
  },
  {
   "cell_type": "code",
   "execution_count": null,
   "metadata": {},
   "outputs": [],
   "source": [
    "query = \"\"\"\n",
    "WITH vital_data AS (\n",
    "    SELECT  distinct vital_category,\tvital_value\t,\n",
    "    hospitalization_id || '_' || strftime(recorded_dttm, '%Y%m%d%H%M') AS combo_id\n",
    "    FROM numeric_vitals where recorded_dttm is not null \n",
    ")\n",
    "PIVOT vital_data\n",
    "ON vital_category\n",
    "USING mean(vital_value)\n",
    "GROUP BY combo_id\n",
    "\"\"\"\n",
    "p_numeric_vitals = duckdb.sql(query).df()\n",
    "\n",
    "if 'map' not in p_numeric_vitals.columns:\n",
    "    p_numeric_vitals['map'] = ((p_numeric_vitals['sbp'].fillna(0) + 2 * p_numeric_vitals['dbp'].fillna(0)) / 3).round(0)\n",
    "    p_numeric_vitals.loc[p_numeric_vitals['sbp'].isna() | p_numeric_vitals['dbp'].isna(), 'map'] = np.nan"
   ]
  },
  {
   "cell_type": "code",
   "execution_count": null,
   "metadata": {},
   "outputs": [],
   "source": [
    "p_numeric_vitals.head()"
   ]
  },
  {
   "cell_type": "code",
   "execution_count": null,
   "metadata": {},
   "outputs": [],
   "source": [
    "labs.head()"
   ]
  },
  {
   "cell_type": "code",
   "execution_count": null,
   "metadata": {},
   "outputs": [],
   "source": [
    "query = \"\"\"\n",
    "WITH labs_data AS (\n",
    "    SELECT  distinct lab_value_numeric,\tlab_category\t,\n",
    "    hospitalization_id || '_' || strftime(lab_result_dttm, '%Y%m%d%H%M') AS combo_id\n",
    "    FROM labs where lab_result_dttm is not null \n",
    ") \n",
    "PIVOT labs_data\n",
    "ON lab_category\n",
    "USING mean(lab_value_numeric)\n",
    "GROUP BY combo_id\n",
    "\"\"\"\n",
    "p_labs = duckdb.sql(query).df()"
   ]
  },
  {
   "cell_type": "code",
   "execution_count": null,
   "metadata": {},
   "outputs": [],
   "source": [
    "p_labs.head()"
   ]
  },
  {
   "cell_type": "code",
   "execution_count": null,
   "metadata": {},
   "outputs": [],
   "source": [
    "pas.head()"
   ]
  },
  {
   "cell_type": "code",
   "execution_count": null,
   "metadata": {},
   "outputs": [],
   "source": [
    "query = \"\"\"\n",
    "WITH pas_data AS (\n",
    "    SELECT  distinct assessment_value ,\tassessment_category\t,\n",
    "    hospitalization_id || '_' || strftime(recorded_dttm, '%Y%m%d%H%M') AS combo_id\n",
    "    FROM pas where recorded_dttm is not null \n",
    ") \n",
    "PIVOT pas_data\n",
    "ON assessment_category\n",
    "USING first(assessment_value)\n",
    "GROUP BY combo_id\n",
    "\"\"\"\n",
    "p_pas = duckdb.sql(query).df()\n",
    "p_pas = p_pas.where(pd.notnull(p_pas), np.nan)"
   ]
  },
  {
   "cell_type": "code",
   "execution_count": null,
   "metadata": {},
   "outputs": [],
   "source": [
    "p_pas.head()"
   ]
  },
  {
   "cell_type": "code",
   "execution_count": null,
   "metadata": {},
   "outputs": [],
   "source": [
    "mac.head()"
   ]
  },
  {
   "cell_type": "code",
   "execution_count": 29,
   "metadata": {},
   "outputs": [],
   "source": [
    "query = \"\"\"\n",
    "WITH mac_data AS (\n",
    "    SELECT  distinct med_dose ,\tmed_category_group,\n",
    "    hospitalization_id || '_' || strftime(admin_dttm, '%Y%m%d%H%M') AS combo_id\n",
    "    FROM mac where admin_dttm is not null \n",
    ") \n",
    "PIVOT mac_data\n",
    "ON med_category_group\n",
    "USING min(med_dose)\n",
    "GROUP BY combo_id\n",
    "\"\"\"\n",
    "p_mac = duckdb.sql(query).df()"
   ]
  },
  {
   "cell_type": "code",
   "execution_count": null,
   "metadata": {},
   "outputs": [],
   "source": [
    "p_mac.head()"
   ]
  },
  {
   "cell_type": "code",
   "execution_count": null,
   "metadata": {},
   "outputs": [],
   "source": [
    "duckdb.register(\"expanded_df\", expanded_df)\n",
    "duckdb.register(\"p_labs\", p_labs)\n",
    "duckdb.register(\"p_numeric_vitals\", p_numeric_vitals)\n",
    "duckdb.register(\"p_pas\", p_pas)\n",
    "duckdb.register(\"p_mac\", p_mac)\n",
    "duckdb.register(\"p_micro\", p_micro)\n",
    "duckdb.register(\"p_mai\", p_mai)\n",
    "\n",
    "q=\"\"\"\n",
    "    WITH u_adt as (select *, hospitalization_id || '_' || strftime(in_dttm, '%Y%m%d%H%M') AS combo_id from adt),\n",
    "\n",
    "    u_rst as (select *, hospitalization_id || '_' || strftime(recorded_dttm, '%Y%m%d%H%M') AS combo_id from rst),\n",
    "\n",
    "    u_expanded_df as (select *, hospitalization_id || '_' || strftime(event_time, '%Y%m%d%H%M') AS combo_id from expanded_df)\n",
    "\n",
    "    select * from  u_expanded_df a \n",
    "\n",
    "    left join u_adt b on a.combo_id=b.combo_id   \n",
    "\n",
    "        left join p_labs c on a.combo_id=c.combo_id\n",
    "\n",
    "            left join p_numeric_vitals d on a.combo_id=d.combo_id \n",
    "\n",
    "                left join u_rst e on a.combo_id=e.combo_id \n",
    "\n",
    "                        left join p_mac g on a.combo_id=g.combo_id \n",
    "                        \n",
    "                            left join p_pas h on a.combo_id=h.combo_id \n",
    "\n",
    "                                left join p_mai i on a.combo_id=i.combo_id \n",
    "\n",
    "                                    left join p_micro j on a.combo_id=j.combo_id \n",
    "\"\"\"\n",
    "\n",
    "all_join_df = duckdb.sql(q).df().drop_duplicates()"
   ]
  },
  {
   "cell_type": "code",
   "execution_count": null,
   "metadata": {},
   "outputs": [],
   "source": [
    "if all_join_df.shape[0] != expanded_df.shape[0]:\n",
    "    print('Data has duplicates or same timestamp, contact project owner')\n",
    "else:\n",
    "    print('thank you !!!')"
   ]
  },
  {
   "cell_type": "code",
   "execution_count": null,
   "metadata": {},
   "outputs": [],
   "source": [
    "list(all_join_df.columns)"
   ]
  },
  {
   "cell_type": "code",
   "execution_count": 36,
   "metadata": {},
   "outputs": [],
   "source": [
    "cohort_col = \\\n",
    "[\n",
    "'patient_id',\n",
    " 'hospitalization_id',\n",
    " 'admission_dttm',\n",
    " 'discharge_dttm',\n",
    " 'age_at_admission',\n",
    " 'discharge_category',\n",
    " 'sex_category',\n",
    " 'race_category',\n",
    " 'ethnicity_category',\n",
    "\n",
    " 'event_time',\n",
    "\n",
    "\n",
    " 'in_dttm',\n",
    " 'location_category',\n",
    "\n",
    " 'albumin',\n",
    " 'alkaline_phosphatase',\n",
    " 'alt',\n",
    " 'anion_gap',\n",
    " 'ast',\n",
    " 'basophil_absolute',\n",
    " 'basophil_percent',\n",
    " 'bicarbonate',\n",
    " 'bicarbonate_arterial',\n",
    " 'bicarbonate_venous',\n",
    " 'bilirubin_conjugated',\n",
    " 'bilirubin_total',\n",
    " 'bun',\n",
    " 'calcium_ionized',\n",
    " 'calcium_total',\n",
    " 'chloride',\n",
    " 'creatinine',\n",
    " 'crp',\n",
    " 'eosinophils_absolute',\n",
    " 'eosinophils_percent',\n",
    " 'esr',\n",
    " 'ferritin',\n",
    " 'glucose_fingerstick',\n",
    " 'glucose_serum',\n",
    " 'hematocrit',\n",
    " 'hemoglobin',\n",
    " 'inr',\n",
    " 'lactate',\n",
    " 'ldh',\n",
    " 'lymphocytes_absolute',\n",
    " 'lymphocytes_percent',\n",
    " 'magnesium',\n",
    " 'monocytes_absolute',\n",
    " 'monocytes_percent',\n",
    " 'neutrophils_absolute',\n",
    " 'neutrophils_percent',\n",
    " 'paco2',\n",
    " 'pco2_arterial',\n",
    " 'pco2_venous',\n",
    " 'ph_arterial',\n",
    " 'ph_venous',\n",
    " 'phosphate',\n",
    " 'platelet_count',\n",
    " 'po2_arterial',\n",
    " 'potassium',\n",
    " 'procalcitonin',\n",
    " 'pt',\n",
    " 'ptt',\n",
    " 'rdw',\n",
    " 'so2_arterial',\n",
    " 'so2_central_venous',\n",
    " 'so2_mixed_venous',\n",
    " 'sodium',\n",
    " 'total_protein',\n",
    " 'wbc',\n",
    "\n",
    " 'dbp',\n",
    " 'heart_rate',\n",
    " 'height_cm',\n",
    " 'respiratory_rate',\n",
    " 'sbp',\n",
    " 'spo2',\n",
    " 'temp_c',\n",
    " 'weight_kg',\n",
    " 'map',\n",
    "\n",
    " 'P/F',\n",
    " 'device_name',\n",
    " 'fio2_set',\n",
    " 'flow_rate_set',\n",
    " 'inspiratory_time_set',\n",
    " 'lpm_set',\n",
    " 'mean_airway_pressure_obs',\n",
    " 'minute_vent_obs',\n",
    " 'peak_inspiratory_pressure_obs',\n",
    " 'peak_inspiratory_pressure_set',\n",
    " 'peep_obs',\n",
    " 'peep_set',\n",
    " 'plateau_pressure_obs',\n",
    " 'pressure_support_set',\n",
    " 'resp_rate_obs',\n",
    " 'resp_rate_set',\n",
    " 'tidal_volume_obs',\n",
    " 'tidal_volume_set',\n",
    " 'device_category',\n",
    " 'mode_category',\n",
    " 'tracheostomy',\n",
    " 'pressure_control_set',\n",
    "\n",
    " 'adenosine_cardiac',\n",
    " 'amiodarone_cardiac',\n",
    " 'cisatracurium_paralytics',\n",
    " 'dexmedetomidine_sedation',\n",
    " 'diltiazem_cardiac',\n",
    " 'dobutamine_vasoactives',\n",
    " 'dopamine_vasoactives',\n",
    " 'epinephrine_vasoactives',\n",
    " 'esmolol_cardiac',\n",
    " 'fentanyl_sedation',\n",
    " 'hydromorphone_sedation',\n",
    " 'isoproterenol_vasoactives',\n",
    " 'ketamine_sedation',\n",
    " 'labetalol_cardiac',\n",
    " 'lidocaine_cardiac',\n",
    " 'lorazepam_sedation',\n",
    " 'midazolam_sedation',\n",
    " 'milrinone_vasoactives',\n",
    " 'morphine_sedation',\n",
    " 'nicardipine_cardiac',\n",
    " 'nitroprusside_cardiac',\n",
    " 'norepinephrine_vasoactives',\n",
    " 'papaverine_cardiac',\n",
    " 'pentobarbital_sedation',\n",
    " 'phenylephrine_vasoactives',\n",
    " 'procainamide_cardiac',\n",
    " 'propofol_sedation',\n",
    " 'remifentanil_sedation',\n",
    " 'rocuronium_paralytics',\n",
    " 'vasopressin_vasoactives',\n",
    "\n",
    " 'cpot_total',\n",
    " 'gcs_total',\n",
    " 'rass',\n",
    "\n",
    " 'ampicillin-sulbact_antibiotics',\n",
    " 'azithromycin_antibiotics',\n",
    " 'cefazolin_antibiotics',\n",
    " 'cefepime_antibiotics',\n",
    " 'cefoxitin_antibiotics',\n",
    " 'ceftolozane-tazobactam_antibiotics',\n",
    " 'cfepime_antibiotics',\n",
    " 'ciprofloxacin_antibiotics',\n",
    " 'clindamycin_antibiotics',\n",
    " 'colistimethate_antibiotics',\n",
    " 'daptomycin_antibiotics',\n",
    " 'doxycycline_antibiotics',\n",
    " 'gentamicin_antibiotics',\n",
    " 'levofloxacin_antibiotics',\n",
    " 'linezolid_antibiotics',\n",
    " 'meropenem-vaborbactam_antibiotics',\n",
    " 'meropenem_antibiotics',\n",
    " 'metronidazole_antibiotics',\n",
    " 'moxifloxacin_antibiotics',\n",
    " 'penicillin_antibiotics',\n",
    " 'piperacillin-tazob_antibiotics',\n",
    " 'piperacillin-tazobactam_antibiotics',\n",
    " 'piperacillin/tazobactam_antibiotics',\n",
    " 'tobramycin_antibiotics',\n",
    " 'vancomycin_antibiotics',\n",
    "\n",
    " 'culture_blood'\n",
    "]"
   ]
  },
  {
   "cell_type": "code",
   "execution_count": 38,
   "metadata": {},
   "outputs": [],
   "source": [
    "all_join_df[cohort_col].\\\n",
    "to_csv(f\"C:/Users/vchaudha/Downloads/ATS2024/CLIF-Ltach-prediction/output/intermediate/study_cohort_ltach.csv\",index=False)"
   ]
  },
  {
   "cell_type": "code",
   "execution_count": null,
   "metadata": {},
   "outputs": [],
   "source": []
  },
  {
   "cell_type": "code",
   "execution_count": null,
   "metadata": {},
   "outputs": [],
   "source": []
  },
  {
   "cell_type": "code",
   "execution_count": null,
   "metadata": {},
   "outputs": [],
   "source": []
  },
  {
   "cell_type": "code",
   "execution_count": null,
   "metadata": {},
   "outputs": [],
   "source": []
  },
  {
   "cell_type": "code",
   "execution_count": null,
   "metadata": {},
   "outputs": [],
   "source": []
  },
  {
   "cell_type": "code",
   "execution_count": null,
   "metadata": {},
   "outputs": [],
   "source": []
  },
  {
   "cell_type": "code",
   "execution_count": null,
   "metadata": {},
   "outputs": [],
   "source": []
  }
 ],
 "metadata": {
  "kernelspec": {
   "display_name": ".ltach_ats24",
   "language": "python",
   "name": "python3"
  },
  "language_info": {
   "codemirror_mode": {
    "name": "ipython",
    "version": 3
   },
   "file_extension": ".py",
   "mimetype": "text/x-python",
   "name": "python",
   "nbconvert_exporter": "python",
   "pygments_lexer": "ipython3",
   "version": "3.11.5"
  }
 },
 "nbformat": 4,
 "nbformat_minor": 2
}
